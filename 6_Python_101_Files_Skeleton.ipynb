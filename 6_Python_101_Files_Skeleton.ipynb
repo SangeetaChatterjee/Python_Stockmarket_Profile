{
  "nbformat": 4,
  "nbformat_minor": 0,
  "metadata": {
    "colab": {
      "name": "6. Python 101 - Files - Skeleton.ipynb",
      "provenance": [],
      "collapsed_sections": [
        "mVEBiOmtnCp4",
        "1YIpbzx8wrYj",
        "JOWd-_I8xlze"
      ],
      "include_colab_link": true
    },
    "kernelspec": {
      "name": "python3",
      "display_name": "Python 3"
    }
  },
  "cells": [
    {
      "cell_type": "markdown",
      "metadata": {
        "id": "view-in-github",
        "colab_type": "text"
      },
      "source": [
        "<a href=\"https://colab.research.google.com/github/SangeetaChatterjee/Udemy01_PythonBasics/blob/main/6_Python_101_Files_Skeleton.ipynb\" target=\"_parent\"><img src=\"https://colab.research.google.com/assets/colab-badge.svg\" alt=\"Open In Colab\"/></a>"
      ]
    },
    {
      "cell_type": "markdown",
      "metadata": {
        "id": "iLfi8gKMoAd6"
      },
      "source": [
        "# 1. TEXT FILES"
      ]
    },
    {
      "cell_type": "markdown",
      "metadata": {
        "id": "r2IjrNQmoFxC"
      },
      "source": [
        "- open() is the key function to handle files \n",
        "- open() function takes two parameters: (1) filename (2) mode.\n",
        "- Modes for files opening: \n",
        "\n",
        "    - \"r\" - Read - Default value. Opens a file for reading, error if the file does not exist\n",
        "    - \"a\" - Append - Opens a file for appending, creates the file if it does not exist\n",
        "    - \"w\" - Write - Opens a file for writing, creates the file if it does not exist\n",
        "    - \"x\" - Create - Creates the specified file, returns an error if the file exists\n",
        "\n",
        "- files can be used in a binary or text mode\n",
        "\n",
        "    - \"t\" - Text - Default value. Text mode\n",
        "    - \"b\" - Binary - Binary mode (e.g. images)"
      ]
    },
    {
      "cell_type": "code",
      "metadata": {
        "id": "xEbqa95ArXlE",
        "colab": {
          "base_uri": "https://localhost:8080/"
        },
        "outputId": "f719af14-b934-4f6e-cb62-894eab752863"
      },
      "source": [
        "# In order to access data on Google Drive, you need to mount the drive to access it's content\n",
        "from google.colab import drive\n",
        "drive.mount('/content/drive')"
      ],
      "execution_count": 2,
      "outputs": [
        {
          "output_type": "stream",
          "text": [
            "Mounted at /content/drive\n"
          ],
          "name": "stdout"
        }
      ]
    },
    {
      "cell_type": "code",
      "metadata": {
        "id": "zqk6rO37oC_g",
        "colab": {
          "base_uri": "https://localhost:8080/"
        },
        "outputId": "83701d30-9df6-4638-bf28-00f50afb0bcb"
      },
      "source": [
        "# Open and read text file\n",
        "f=open('/content/drive/MyDrive/Python_Colab/Financial_Analysis/Part 1. Python Programming Fundamentals/sample_text_file.txt','r')\n",
        "print(f.read())"
      ],
      "execution_count": 3,
      "outputs": [
        {
          "output_type": "stream",
          "text": [
            "I am learning python now!\n",
            "It is super fun to learn Python programming \n",
            "I am learning how to handle files in python!\n"
          ],
          "name": "stdout"
        }
      ]
    },
    {
      "cell_type": "code",
      "metadata": {
        "id": "m1596TUCoInJ",
        "colab": {
          "base_uri": "https://localhost:8080/"
        },
        "outputId": "c74c7c0a-4910-45a2-f788-6fca7418c70a"
      },
      "source": [
        "# readline will be used to read the first line\n",
        "f=open('/content/drive/MyDrive/Python_Colab/Financial_Analysis/Part 1. Python Programming Fundamentals/sample_text_file.txt','r')\n",
        "print(f.readline())"
      ],
      "execution_count": 4,
      "outputs": [
        {
          "output_type": "stream",
          "text": [
            "I am learning python now!\n",
            "\n"
          ],
          "name": "stdout"
        }
      ]
    },
    {
      "cell_type": "code",
      "metadata": {
        "id": "-2Y52n0UoIpX",
        "colab": {
          "base_uri": "https://localhost:8080/"
        },
        "outputId": "fa536c3b-ed9b-4d2a-9c32-00b65c69b389"
      },
      "source": [
        "# You can open the file and append content to it\n",
        "f=open('/content/drive/MyDrive/Python_Colab/Financial_Analysis/Part 1. Python Programming Fundamentals/sample_text_file.txt','a')\n",
        "f.write('/n this is what I added!')"
      ],
      "execution_count": 9,
      "outputs": [
        {
          "output_type": "execute_result",
          "data": {
            "text/plain": [
              "24"
            ]
          },
          "metadata": {
            "tags": []
          },
          "execution_count": 9
        }
      ]
    },
    {
      "cell_type": "code",
      "metadata": {
        "id": "6twyC3vfoIrU"
      },
      "source": [
        "# close the file and let's check its content\n",
        "f.close()"
      ],
      "execution_count": 10,
      "outputs": []
    },
    {
      "cell_type": "code",
      "metadata": {
        "id": "sEQ6zDLaoOga",
        "colab": {
          "base_uri": "https://localhost:8080/"
        },
        "outputId": "8adfb9ba-e6f8-4af8-9f2f-837c2f4febb9"
      },
      "source": [
        "# Let's open the updated file after writing new content to it\n",
        "f=open('/content/drive/MyDrive/Python_Colab/Financial_Analysis/Part 1. Python Programming Fundamentals/sample_text_file.txt','r')\n",
        "print(f.read())"
      ],
      "execution_count": 11,
      "outputs": [
        {
          "output_type": "stream",
          "text": [
            "I am learning python now!\n",
            "It is super fun to learn Python programming \n",
            "I am learning how to handle files in python!this is what I added!this is what I added!/n this is what I added!\n"
          ],
          "name": "stdout"
        }
      ]
    },
    {
      "cell_type": "code",
      "metadata": {
        "id": "HqnHR33noOiZ"
      },
      "source": [
        ""
      ],
      "execution_count": null,
      "outputs": []
    },
    {
      "cell_type": "code",
      "metadata": {
        "id": "GJAfep33oOke"
      },
      "source": [
        "# split into a list of words\n",
        "\n"
      ],
      "execution_count": null,
      "outputs": []
    },
    {
      "cell_type": "markdown",
      "metadata": {
        "id": "_9ihcna1v0Y9"
      },
      "source": [
        "**MINI CHALLENGE #1:**\n",
        "- **Read the file 'fruits_input.txt'**\n",
        "- **compare the text file content to the list my_fruits = [\"Apple\", \"Pepper\", \"Orange\", \"Watermelon\", \"Tomatoes\"]**\n"
      ]
    },
    {
      "cell_type": "code",
      "metadata": {
        "id": "FwqzbVBhx5Se"
      },
      "source": [
        "f = open('/content/drive/MyDrive/Python_Colab/Financial_Analysis/Part 1. Python Programming Fundamentals/fruits_input.txt','r') "
      ],
      "execution_count": 31,
      "outputs": []
    },
    {
      "cell_type": "code",
      "metadata": {
        "id": "iL0yRBfyMD6F",
        "colab": {
          "base_uri": "https://localhost:8080/"
        },
        "outputId": "ecd68536-89a8-49f4-f6e7-2f0fb20be402"
      },
      "source": [
        "my_fruits = [\"Apple\", \"Pepper\", \"Orange\", \"Watermelon\", \"Tomatoes\"]\r\n",
        "all_fruits = f.readlines()\r\n",
        "all_fruits = [i.rstrip('\\n') for i in all_fruits]\r\n",
        "print(all_fruits)"
      ],
      "execution_count": 32,
      "outputs": [
        {
          "output_type": "stream",
          "text": [
            "['Acai', 'Apple', 'Akee', 'Apricot', 'Avocado', 'Banana', 'Bilberry', 'Blackberry', 'Blackcurrant', 'Black sapote', 'Blueberry', 'Boysenberry', \"Buddha's hand (fingered citron)\", 'Crab apples', 'Currant', 'Cherry', 'Cherimoya (Custard Apple)', 'Chico fruit', 'Cloudberry', 'Coconut', 'Cranberry', 'Cucumber', 'Damson', 'Date', 'Dragonfruit (or Pitaya)', 'Durian', 'Elderberry', 'Feijoa', 'Fig', 'Goji berry', 'Gooseberry', 'Grape', 'Raisin', 'Grapefruit', 'Guava', 'Honeyberry', 'Huckleberry', 'Jabuticaba', 'Jackfruit', 'Jambul', 'Japanese plum', 'Jostaberry', 'Jujube', 'Juniper berry', 'Kiwano (horned melon)', 'Kiwifruit', 'Kumquat', 'Lemon', 'Lime', 'Loquat', 'Longan', 'Lychee', 'Mango', 'Mangosteen', 'Marionberry', 'Melon', 'Cantaloupe', 'Honeydew', 'Watermelon', 'Miracle fruit', 'Mulberry', 'Nectarine', 'Nance', 'Olive', 'Orange', 'Blood orange', 'Clementine', 'Mandarine', 'Tangerine', 'Papaya', 'Passionfruit', 'Peach', 'Pear', 'Persimmon', 'Plantain', 'Plum', 'Prune (dried plum)', 'Pineapple', 'Pineberry', 'Plumcot (or Pluot)', 'Pomegranate', 'Pomelo', 'Purple mangosteen', 'Quince', 'Raspberry', 'Salmonberry', 'Rambutan (or Mamin Chino)', 'Redcurrant', 'Salal berry', 'Salak', 'Satsuma', 'Soursop', 'Star apple', 'Star fruit', 'Strawberry', 'Surinam cherry', 'Tamarillo', 'Tamarind', 'Ugli fruit', 'White currant', 'White sapote', 'Yuzu', '']\n"
          ],
          "name": "stdout"
        }
      ]
    },
    {
      "cell_type": "code",
      "metadata": {
        "id": "ZMZDbtbGMD8k",
        "colab": {
          "base_uri": "https://localhost:8080/"
        },
        "outputId": "e1911f15-2985-4f63-d74e-5e08bffe3ec8"
      },
      "source": [
        "common = [fruit  for fruit in all_fruits if fruit in my_fruits]\r\n",
        "common"
      ],
      "execution_count": 34,
      "outputs": [
        {
          "output_type": "execute_result",
          "data": {
            "text/plain": [
              "['Apple', 'Watermelon', 'Orange']"
            ]
          },
          "metadata": {
            "tags": []
          },
          "execution_count": 34
        }
      ]
    },
    {
      "cell_type": "code",
      "metadata": {
        "id": "GSIATnQxMyFR"
      },
      "source": [
        ""
      ],
      "execution_count": null,
      "outputs": []
    },
    {
      "cell_type": "markdown",
      "metadata": {
        "id": "mVEBiOmtnCp4"
      },
      "source": [
        "# 2. CSV FILES"
      ]
    },
    {
      "cell_type": "code",
      "metadata": {
        "id": "C6-0bqrqmZS-"
      },
      "source": [
        "# you can read csv files using \"csv.reader\"\n",
        "\n"
      ],
      "execution_count": null,
      "outputs": []
    },
    {
      "cell_type": "code",
      "metadata": {
        "id": "JlyWKV6fmng9"
      },
      "source": [
        "# Let's view the data\n"
      ],
      "execution_count": null,
      "outputs": []
    },
    {
      "cell_type": "code",
      "metadata": {
        "id": "SuYdDHQpnZxL"
      },
      "source": [
        "# Let's view the first row\n"
      ],
      "execution_count": null,
      "outputs": []
    },
    {
      "cell_type": "code",
      "metadata": {
        "id": "iPiq2lkMnbjW"
      },
      "source": [
        "# Let's view the second row\n"
      ],
      "execution_count": null,
      "outputs": []
    },
    {
      "cell_type": "code",
      "metadata": {
        "id": "1EbBeptqm1XY"
      },
      "source": [
        "# Combine first and last names together to generate full_name\n"
      ],
      "execution_count": null,
      "outputs": []
    },
    {
      "cell_type": "code",
      "metadata": {
        "id": "gD3H86PLm3FO"
      },
      "source": [
        ""
      ],
      "execution_count": null,
      "outputs": []
    },
    {
      "cell_type": "code",
      "metadata": {
        "id": "cjLRTZfcm5_I"
      },
      "source": [
        ""
      ],
      "execution_count": null,
      "outputs": []
    },
    {
      "cell_type": "code",
      "metadata": {
        "id": "wTXefzJAm6Wv"
      },
      "source": [
        ""
      ],
      "execution_count": null,
      "outputs": []
    },
    {
      "cell_type": "markdown",
      "metadata": {
        "id": "fxYxNeqJxEmR"
      },
      "source": [
        "**MINI CHALLENGE #2:**\n",
        "- **Read the CSV file entitled \"S&P500_Stock_data.csv\" and print out the heading**\n",
        "- **Print out the first 5 rows of data**\n"
      ]
    },
    {
      "cell_type": "code",
      "metadata": {
        "id": "yzmHo9AHxhff"
      },
      "source": [
        ""
      ],
      "execution_count": null,
      "outputs": []
    },
    {
      "cell_type": "code",
      "metadata": {
        "id": "5gflv-5oQSQg"
      },
      "source": [
        ""
      ],
      "execution_count": null,
      "outputs": []
    },
    {
      "cell_type": "code",
      "metadata": {
        "id": "um4wsztKQSSx"
      },
      "source": [
        ""
      ],
      "execution_count": null,
      "outputs": []
    },
    {
      "cell_type": "code",
      "metadata": {
        "id": "AvkJGqpPQSOi"
      },
      "source": [
        ""
      ],
      "execution_count": null,
      "outputs": []
    },
    {
      "cell_type": "code",
      "metadata": {
        "id": "HGXN70DvQt7k"
      },
      "source": [
        ""
      ],
      "execution_count": null,
      "outputs": []
    },
    {
      "cell_type": "markdown",
      "metadata": {
        "id": "1YIpbzx8wrYj"
      },
      "source": [
        "# EXCELLENT JOB!"
      ]
    },
    {
      "cell_type": "markdown",
      "metadata": {
        "id": "JOWd-_I8xlze"
      },
      "source": [
        "# MINI CHALLENGE SOLUTIONS:\n"
      ]
    },
    {
      "cell_type": "markdown",
      "metadata": {
        "id": "PiBxzSjVxr4u"
      },
      "source": [
        "**MINI CHALLENGE #1:**\n",
        "- **Read the file 'fruits_input.txt'**\n",
        "- **compare the text file content to the list my_fruits = [\"Apple\", \"Pepper\", \"Orange\", \"Watermelon\", \"Tomatoes\"]**"
      ]
    },
    {
      "cell_type": "code",
      "metadata": {
        "id": "45oMJBA2xvC5"
      },
      "source": [
        "my_fruits = [\"Apple\", \"Pepper\", \"Orange\", \"Watermelon\", \"Tomatoes\"]\n",
        "\n",
        "with open(\"/content/drive/My Drive/Colab Notebooks/Python & ML in Finance/Part 1. Python Programming Fundamentals/fruits_input.txt\", \"r\") as file:\n",
        "    all_fruits = file.readlines()\n",
        "\n",
        "all_fruits = [char.rstrip('\\n') for char in all_fruits]\n",
        "Selected_fruits = [i for i in all_fruits if i in my_fruits]\n",
        "\n",
        "print(Selected_fruits)\n"
      ],
      "execution_count": null,
      "outputs": []
    },
    {
      "cell_type": "markdown",
      "metadata": {
        "id": "E-Ab25tzxuQU"
      },
      "source": [
        "**MINI CHALLENGE #2:**\n",
        "- **Read the CSV file entitled \"S&P500_Stock_data.csv\" and print out the heading**\n",
        "- **Print out the first 5 rows of data**"
      ]
    },
    {
      "cell_type": "code",
      "metadata": {
        "id": "RKGDASZTxVYK"
      },
      "source": [
        "import csv\n",
        "with open(\"/content/drive/My Drive/Colab Notebooks/Python & ML in Finance/Part 1. Python Programming Fundamentals/S&P500_Stock_Data.csv\", \"r\") as csvfile:\n",
        "    readCSV = csv.reader(csvfile, delimiter=',')\n",
        "    stock = list(readCSV)\n",
        "    "
      ],
      "execution_count": null,
      "outputs": []
    },
    {
      "cell_type": "code",
      "metadata": {
        "id": "f38DGWN6xXz7"
      },
      "source": [
        "print(stock)"
      ],
      "execution_count": null,
      "outputs": []
    },
    {
      "cell_type": "code",
      "metadata": {
        "id": "H6wfbUS4xX2Y"
      },
      "source": [
        "print(stock[0])"
      ],
      "execution_count": null,
      "outputs": []
    },
    {
      "cell_type": "code",
      "metadata": {
        "id": "vPW5JHLExaJG"
      },
      "source": [
        "selected = []\n",
        "for row in stock[1:6]:\n",
        "    selected.append(row)"
      ],
      "execution_count": null,
      "outputs": []
    },
    {
      "cell_type": "code",
      "metadata": {
        "id": "X7R2RDmkxaLQ"
      },
      "source": [
        "selected"
      ],
      "execution_count": null,
      "outputs": []
    },
    {
      "cell_type": "code",
      "metadata": {
        "id": "yfrWoZwxwojy"
      },
      "source": [
        ""
      ],
      "execution_count": null,
      "outputs": []
    }
  ]
}