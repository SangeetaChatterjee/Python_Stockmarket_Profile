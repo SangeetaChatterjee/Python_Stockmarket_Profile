{
  "nbformat": 4,
  "nbformat_minor": 0,
  "metadata": {
    "colab": {
      "name": "8. Python 101 - Python Libraries for Data Analysis - Pandas Skeleton.ipynb",
      "provenance": [],
      "collapsed_sections": [],
      "include_colab_link": true
    },
    "kernelspec": {
      "name": "python3",
      "display_name": "Python 3"
    }
  },
  "cells": [
    {
      "cell_type": "markdown",
      "metadata": {
        "id": "view-in-github",
        "colab_type": "text"
      },
      "source": [
        "<a href=\"https://colab.research.google.com/github/SangeetaChatterjee/Udemy01_PythonBasics/blob/main/8_Python_101_Python_Libraries_for_Data_Analysis_Pandas_Skeleton.ipynb\" target=\"_parent\"><img src=\"https://colab.research.google.com/assets/colab-badge.svg\" alt=\"Open In Colab\"/></a>"
      ]
    },
    {
      "cell_type": "markdown",
      "metadata": {
        "id": "1ivPDcc7p8lD"
      },
      "source": [
        "# 1. PANDAS BASICS"
      ]
    },
    {
      "cell_type": "code",
      "metadata": {
        "id": "4YdCraz8p_XF"
      },
      "source": [
        "# Pandas is a data manipulation and analysis tool that is built on Numpy.\n",
        "# Pandas uses a data structure known as DataFrame (think of it as Microsoft excel in Python). \n",
        "# DataFrames empower programmers to store and manipulate data in a tabular fashion (rows and columns).\n",
        "# Series Vs. DataFrame? Series is considered a single column of a DataFrame."
      ],
      "execution_count": null,
      "outputs": []
    },
    {
      "cell_type": "code",
      "metadata": {
        "id": "6H2808pkqKIR"
      },
      "source": [
        ""
      ],
      "execution_count": null,
      "outputs": []
    },
    {
      "cell_type": "code",
      "metadata": {
        "id": "jHc9-dmUqX48"
      },
      "source": [
        "# Let's define two lists as shown below:\n",
        "\n"
      ],
      "execution_count": null,
      "outputs": []
    },
    {
      "cell_type": "code",
      "metadata": {
        "id": "MU5GA6-EsjJt"
      },
      "source": [
        ""
      ],
      "execution_count": null,
      "outputs": []
    },
    {
      "cell_type": "code",
      "metadata": {
        "id": "flWWE-6YqX7Z"
      },
      "source": [
        ""
      ],
      "execution_count": null,
      "outputs": []
    },
    {
      "cell_type": "code",
      "metadata": {
        "id": "0mf-BKxQsmKO"
      },
      "source": [
        ""
      ],
      "execution_count": null,
      "outputs": []
    },
    {
      "cell_type": "code",
      "metadata": {
        "id": "U4Fq06XwqX9v"
      },
      "source": [
        "# Let's create a one dimensional Pandas \"series\" \n",
        "# Note that series is formed of data and associated labels \n"
      ],
      "execution_count": null,
      "outputs": []
    },
    {
      "cell_type": "code",
      "metadata": {
        "id": "YhPzprisqX_8"
      },
      "source": [
        "# Let's view the series\n"
      ],
      "execution_count": null,
      "outputs": []
    },
    {
      "cell_type": "code",
      "metadata": {
        "id": "4LPwMO8fsvi1"
      },
      "source": [
        "# Let's obtain the datatype\n"
      ],
      "execution_count": null,
      "outputs": []
    },
    {
      "cell_type": "code",
      "metadata": {
        "id": "YnV7pFX0q3_C",
        "colab": {
          "base_uri": "https://localhost:8080/",
          "height": 171
        },
        "outputId": "0d26a4fc-51cc-481c-c27f-e942bdee19ba"
      },
      "source": [
        "# Let's define a two-dimensional Pandas DataFrame\n",
        "# Note that you can create a pandas dataframe from a python dictionary\n",
        "bank_client_df = pd.DataFrame({'Bank CLient Name':['Chanel','Steve','Mitch','Ryan'],\n",
        "                  'Net Worth ($)':[3500,29000,10000,2000],\n",
        "                  'Years with Bank':[3,4,9,5]})\n",
        "bank_client_df"
      ],
      "execution_count": 8,
      "outputs": [
        {
          "output_type": "execute_result",
          "data": {
            "text/html": [
              "<div>\n",
              "<style scoped>\n",
              "    .dataframe tbody tr th:only-of-type {\n",
              "        vertical-align: middle;\n",
              "    }\n",
              "\n",
              "    .dataframe tbody tr th {\n",
              "        vertical-align: top;\n",
              "    }\n",
              "\n",
              "    .dataframe thead th {\n",
              "        text-align: right;\n",
              "    }\n",
              "</style>\n",
              "<table border=\"1\" class=\"dataframe\">\n",
              "  <thead>\n",
              "    <tr style=\"text-align: right;\">\n",
              "      <th></th>\n",
              "      <th>Bank CLient Name</th>\n",
              "      <th>Net Worth ($)</th>\n",
              "      <th>Years with Bank</th>\n",
              "    </tr>\n",
              "  </thead>\n",
              "  <tbody>\n",
              "    <tr>\n",
              "      <th>0</th>\n",
              "      <td>Chanel</td>\n",
              "      <td>3500</td>\n",
              "      <td>3</td>\n",
              "    </tr>\n",
              "    <tr>\n",
              "      <th>1</th>\n",
              "      <td>Steve</td>\n",
              "      <td>29000</td>\n",
              "      <td>4</td>\n",
              "    </tr>\n",
              "    <tr>\n",
              "      <th>2</th>\n",
              "      <td>Mitch</td>\n",
              "      <td>10000</td>\n",
              "      <td>9</td>\n",
              "    </tr>\n",
              "    <tr>\n",
              "      <th>3</th>\n",
              "      <td>Ryan</td>\n",
              "      <td>2000</td>\n",
              "      <td>5</td>\n",
              "    </tr>\n",
              "  </tbody>\n",
              "</table>\n",
              "</div>"
            ],
            "text/plain": [
              "  Bank CLient Name  Net Worth ($)  Years with Bank\n",
              "0           Chanel           3500                3\n",
              "1            Steve          29000                4\n",
              "2            Mitch          10000                9\n",
              "3             Ryan           2000                5"
            ]
          },
          "metadata": {
            "tags": []
          },
          "execution_count": 8
        }
      ]
    },
    {
      "cell_type": "code",
      "metadata": {
        "id": "9LXSKDSTq4Fb"
      },
      "source": [
        "# Let's obtain the data type \n"
      ],
      "execution_count": null,
      "outputs": []
    },
    {
      "cell_type": "code",
      "metadata": {
        "id": "h93nb1trtwhu"
      },
      "source": [
        "# you can only view the first couple of rows using .head()\n"
      ],
      "execution_count": null,
      "outputs": []
    },
    {
      "cell_type": "code",
      "metadata": {
        "id": "7kkAAG0Ft2Q1"
      },
      "source": [
        "# you can only view the last couple of rows using .tail()\n"
      ],
      "execution_count": null,
      "outputs": []
    },
    {
      "cell_type": "markdown",
      "metadata": {
        "id": "Ro-OAYbsy_EA"
      },
      "source": [
        "**MINI CHALLENGE #1:**\n",
        "- **A porfolio contains a collection of securities such as stocks, bonds and ETFs. Define a dataframe named 'portfolio_df' that holds 3 different stock ticker symbols, number of shares, and price per share (feel free to choose any stocks)**\n",
        "- **Calculate the total value of the porfolio including all stocks**"
      ]
    },
    {
      "cell_type": "code",
      "metadata": {
        "id": "zgAFS4N-1cDg"
      },
      "source": [
        "import pandas as pd"
      ],
      "execution_count": 2,
      "outputs": []
    },
    {
      "cell_type": "code",
      "metadata": {
        "id": "idvE_4vAH1lq",
        "colab": {
          "base_uri": "https://localhost:8080/",
          "height": 141
        },
        "outputId": "e2038d41-beed-4ad7-d725-d896def5c080"
      },
      "source": [
        "portfolio_df = pd.DataFrame({'Tickers':['AAPL', 'ZM','CRM'],\r\n",
        "                             'Shares_No':[50,25,35],\r\n",
        "                             'price':[200,350,150]})\r\n",
        "portfolio_df['Total']=portfolio_df['Shares_No'] * portfolio_df['price']\r\n",
        "portfolio_df"
      ],
      "execution_count": 3,
      "outputs": [
        {
          "output_type": "execute_result",
          "data": {
            "text/html": [
              "<div>\n",
              "<style scoped>\n",
              "    .dataframe tbody tr th:only-of-type {\n",
              "        vertical-align: middle;\n",
              "    }\n",
              "\n",
              "    .dataframe tbody tr th {\n",
              "        vertical-align: top;\n",
              "    }\n",
              "\n",
              "    .dataframe thead th {\n",
              "        text-align: right;\n",
              "    }\n",
              "</style>\n",
              "<table border=\"1\" class=\"dataframe\">\n",
              "  <thead>\n",
              "    <tr style=\"text-align: right;\">\n",
              "      <th></th>\n",
              "      <th>Tickers</th>\n",
              "      <th>Shares_No</th>\n",
              "      <th>price</th>\n",
              "      <th>Total</th>\n",
              "    </tr>\n",
              "  </thead>\n",
              "  <tbody>\n",
              "    <tr>\n",
              "      <th>0</th>\n",
              "      <td>AAPL</td>\n",
              "      <td>50</td>\n",
              "      <td>200</td>\n",
              "      <td>10000</td>\n",
              "    </tr>\n",
              "    <tr>\n",
              "      <th>1</th>\n",
              "      <td>ZM</td>\n",
              "      <td>25</td>\n",
              "      <td>350</td>\n",
              "      <td>8750</td>\n",
              "    </tr>\n",
              "    <tr>\n",
              "      <th>2</th>\n",
              "      <td>CRM</td>\n",
              "      <td>35</td>\n",
              "      <td>150</td>\n",
              "      <td>5250</td>\n",
              "    </tr>\n",
              "  </tbody>\n",
              "</table>\n",
              "</div>"
            ],
            "text/plain": [
              "  Tickers  Shares_No  price  Total\n",
              "0    AAPL         50    200  10000\n",
              "1      ZM         25    350   8750\n",
              "2     CRM         35    150   5250"
            ]
          },
          "metadata": {
            "tags": []
          },
          "execution_count": 3
        }
      ]
    },
    {
      "cell_type": "markdown",
      "metadata": {
        "id": "d06IyHT9uffC"
      },
      "source": [
        "# 2. PANDAS WITH CSV AND HTML DATA"
      ]
    },
    {
      "cell_type": "code",
      "metadata": {
        "id": "6C6tjxUCwV8B",
        "colab": {
          "base_uri": "https://localhost:8080/"
        },
        "outputId": "4f1b6265-c73b-4e33-9f47-ba53955a72f9"
      },
      "source": [
        "# In order to access data on Google Drive, you need to mount the drive to access it's content\n",
        "from google.colab import drive\n",
        "drive.mount('/content/drive')"
      ],
      "execution_count": 5,
      "outputs": [
        {
          "output_type": "stream",
          "text": [
            "Mounted at /content/drive\n"
          ],
          "name": "stdout"
        }
      ]
    },
    {
      "cell_type": "code",
      "metadata": {
        "id": "lHB4RP5luJwF",
        "colab": {
          "base_uri": "https://localhost:8080/",
          "height": 141
        },
        "outputId": "d0cc4fdb-9687-4ff4-e181-e0383d4ce2e1"
      },
      "source": [
        "# Pandas is used to read a csv file and store data in a DataFrame\n",
        "Bank_df = pd.read_csv('/content/drive/MyDrive/Python_Colab/Financial_Analysis/Part 1. Python Programming Fundamentals/bank_client_information.csv')\n",
        "Bank_df"
      ],
      "execution_count": 6,
      "outputs": [
        {
          "output_type": "execute_result",
          "data": {
            "text/html": [
              "<div>\n",
              "<style scoped>\n",
              "    .dataframe tbody tr th:only-of-type {\n",
              "        vertical-align: middle;\n",
              "    }\n",
              "\n",
              "    .dataframe tbody tr th {\n",
              "        vertical-align: top;\n",
              "    }\n",
              "\n",
              "    .dataframe thead th {\n",
              "        text-align: right;\n",
              "    }\n",
              "</style>\n",
              "<table border=\"1\" class=\"dataframe\">\n",
              "  <thead>\n",
              "    <tr style=\"text-align: right;\">\n",
              "      <th></th>\n",
              "      <th>First Name</th>\n",
              "      <th>Last Name</th>\n",
              "      <th>Email</th>\n",
              "      <th>Postal Code</th>\n",
              "      <th>Net Worth</th>\n",
              "    </tr>\n",
              "  </thead>\n",
              "  <tbody>\n",
              "    <tr>\n",
              "      <th>0</th>\n",
              "      <td>Joseph</td>\n",
              "      <td>Patton</td>\n",
              "      <td>daafeja@boh.jm</td>\n",
              "      <td>M6U 5U7</td>\n",
              "      <td>$2,629.13</td>\n",
              "    </tr>\n",
              "    <tr>\n",
              "      <th>1</th>\n",
              "      <td>Noah</td>\n",
              "      <td>Moran</td>\n",
              "      <td>guutodi@bigwoc.kw</td>\n",
              "      <td>K2D 4M9</td>\n",
              "      <td>$8,626.96</td>\n",
              "    </tr>\n",
              "    <tr>\n",
              "      <th>2</th>\n",
              "      <td>Nina</td>\n",
              "      <td>Keller</td>\n",
              "      <td>azikez@gahew.mr</td>\n",
              "      <td>S1T 4E6</td>\n",
              "      <td>$9,072.02</td>\n",
              "    </tr>\n",
              "  </tbody>\n",
              "</table>\n",
              "</div>"
            ],
            "text/plain": [
              "  First Name Last Name              Email Postal Code   Net Worth\n",
              "0     Joseph    Patton     daafeja@boh.jm     M6U 5U7  $2,629.13 \n",
              "1       Noah     Moran  guutodi@bigwoc.kw     K2D 4M9  $8,626.96 \n",
              "2       Nina    Keller    azikez@gahew.mr     S1T 4E6  $9,072.02 "
            ]
          },
          "metadata": {
            "tags": []
          },
          "execution_count": 6
        }
      ]
    },
    {
      "cell_type": "code",
      "metadata": {
        "id": "OqdhTgIfuoTy"
      },
      "source": [
        ""
      ],
      "execution_count": null,
      "outputs": []
    },
    {
      "cell_type": "code",
      "metadata": {
        "id": "lhwAwJ7BuoXn"
      },
      "source": [
        "# write to a csv file without an index\n",
        "Bank_df.to_csv('sample_output.csv',index= False)"
      ],
      "execution_count": null,
      "outputs": []
    },
    {
      "cell_type": "code",
      "metadata": {
        "id": "Xbhgb5EYxR3o"
      },
      "source": [
        "# write to a csv file with an index\n",
        "Bank_df.to_csv('sample_output.csv',index= True)"
      ],
      "execution_count": null,
      "outputs": []
    },
    {
      "cell_type": "code",
      "metadata": {
        "id": "tAJRGqF-uobr"
      },
      "source": [
        "# Read tabular data using read_html\n"
      ],
      "execution_count": null,
      "outputs": []
    },
    {
      "cell_type": "code",
      "metadata": {
        "id": "Al8bvyYEuods"
      },
      "source": [
        ""
      ],
      "execution_count": null,
      "outputs": []
    },
    {
      "cell_type": "code",
      "metadata": {
        "id": "K-abffkEuoZs"
      },
      "source": [
        ""
      ],
      "execution_count": null,
      "outputs": []
    },
    {
      "cell_type": "markdown",
      "metadata": {
        "id": "jRtr2lpr2NHr"
      },
      "source": [
        "**MINI CHALLENGE #2:**\n",
        "- **Write a code that uses Pandas to read tabular US retirement data**\n",
        "- **You can use data from here: https://www.ssa.gov/oact/progdata/nra.html** "
      ]
    },
    {
      "cell_type": "code",
      "metadata": {
        "id": "qF-eEa5h27rh"
      },
      "source": [
        "Us_retirement_datadf = pd.read_html('https://www.ssa.gov/oact/progdata/nra.html')\r\n",
        "Us_retirement_datadf[0]"
      ],
      "execution_count": null,
      "outputs": []
    },
    {
      "cell_type": "markdown",
      "metadata": {
        "id": "usUtfW0WuuBb"
      },
      "source": [
        "# 3. PANDAS OPERATIONS"
      ]
    },
    {
      "cell_type": "code",
      "metadata": {
        "id": "wI7pvcR01NbV"
      },
      "source": [
        "# Let's define a dataframe as follows:\n"
      ],
      "execution_count": null,
      "outputs": []
    },
    {
      "cell_type": "code",
      "metadata": {
        "id": "kw_260rpuxzc"
      },
      "source": [
        "# Pick certain rows that satisfy a certain criteria \n"
      ],
      "execution_count": null,
      "outputs": []
    },
    {
      "cell_type": "code",
      "metadata": {
        "id": "uudZyadKux12"
      },
      "source": [
        "# Delete a column from a DataFrame\n"
      ],
      "execution_count": null,
      "outputs": []
    },
    {
      "cell_type": "markdown",
      "metadata": {
        "id": "M5_PHunK2_UZ"
      },
      "source": [
        "**MINI CHALLENGE #3:**\n",
        "- **Using \"bank_client_df\" DataFrame, leverage pandas operations to only select high networth individuals with minimum $5000** \n",
        "- **What is the combined networth for all customers with 5000+ networth?**"
      ]
    },
    {
      "cell_type": "code",
      "metadata": {
        "id": "wLyH7CnC4Vjj",
        "colab": {
          "base_uri": "https://localhost:8080/",
          "height": 110
        },
        "outputId": "4549ddd9-e933-45b4-bdab-a6cee1081d19"
      },
      "source": [
        "High_net_df = bank_client_df[(bank_client_df['Net Worth ($)'] > 5000) ]\r\n",
        "High_net_df"
      ],
      "execution_count": 9,
      "outputs": [
        {
          "output_type": "execute_result",
          "data": {
            "text/html": [
              "<div>\n",
              "<style scoped>\n",
              "    .dataframe tbody tr th:only-of-type {\n",
              "        vertical-align: middle;\n",
              "    }\n",
              "\n",
              "    .dataframe tbody tr th {\n",
              "        vertical-align: top;\n",
              "    }\n",
              "\n",
              "    .dataframe thead th {\n",
              "        text-align: right;\n",
              "    }\n",
              "</style>\n",
              "<table border=\"1\" class=\"dataframe\">\n",
              "  <thead>\n",
              "    <tr style=\"text-align: right;\">\n",
              "      <th></th>\n",
              "      <th>Bank CLient Name</th>\n",
              "      <th>Net Worth ($)</th>\n",
              "      <th>Years with Bank</th>\n",
              "    </tr>\n",
              "  </thead>\n",
              "  <tbody>\n",
              "    <tr>\n",
              "      <th>1</th>\n",
              "      <td>Steve</td>\n",
              "      <td>29000</td>\n",
              "      <td>4</td>\n",
              "    </tr>\n",
              "    <tr>\n",
              "      <th>2</th>\n",
              "      <td>Mitch</td>\n",
              "      <td>10000</td>\n",
              "      <td>9</td>\n",
              "    </tr>\n",
              "  </tbody>\n",
              "</table>\n",
              "</div>"
            ],
            "text/plain": [
              "  Bank CLient Name  Net Worth ($)  Years with Bank\n",
              "1            Steve          29000                4\n",
              "2            Mitch          10000                9"
            ]
          },
          "metadata": {
            "tags": []
          },
          "execution_count": 9
        }
      ]
    },
    {
      "cell_type": "code",
      "metadata": {
        "id": "rr_nhgq-VGfC",
        "colab": {
          "base_uri": "https://localhost:8080/"
        },
        "outputId": "36ce2d64-80d4-45de-d906-3e7646fb2b05"
      },
      "source": [
        "Combined_Net = High_net_df['Net Worth ($)'].sum()\r\n",
        "Combined_Net"
      ],
      "execution_count": null,
      "outputs": [
        {
          "output_type": "execute_result",
          "data": {
            "text/plain": [
              "39000"
            ]
          },
          "metadata": {
            "tags": []
          },
          "execution_count": 24
        }
      ]
    },
    {
      "cell_type": "markdown",
      "metadata": {
        "id": "3-5RHcLDu1wL"
      },
      "source": [
        "# 4. PANDAS WITH FUNCTIONS"
      ]
    },
    {
      "cell_type": "code",
      "metadata": {
        "id": "w6Vs9IxC14kV"
      },
      "source": [
        "# Let's define a dataframe as follows:\n"
      ],
      "execution_count": null,
      "outputs": []
    },
    {
      "cell_type": "code",
      "metadata": {
        "id": "X8HedZiGux37"
      },
      "source": [
        "# Define a function that increases all clients networth (stocks) by a fixed value of 10% (for simplicity sake) \n"
      ],
      "execution_count": null,
      "outputs": []
    },
    {
      "cell_type": "code",
      "metadata": {
        "id": "H15eem3Qu67H"
      },
      "source": [
        "# You can apply a function to the DataFrame \n"
      ],
      "execution_count": null,
      "outputs": []
    },
    {
      "cell_type": "code",
      "metadata": {
        "id": "WsObpnkou69Q"
      },
      "source": [
        ""
      ],
      "execution_count": null,
      "outputs": []
    },
    {
      "cell_type": "code",
      "metadata": {
        "id": "E52xRMulu6_I"
      },
      "source": [
        ""
      ],
      "execution_count": null,
      "outputs": []
    },
    {
      "cell_type": "markdown",
      "metadata": {
        "id": "VaXV-VYg4xG0"
      },
      "source": [
        "**MINI CHALLENGE #4:**\n",
        "- **Define a function that doubles stock prices and adds $100**\n",
        "- **Apply the function to the DataFrame**\n",
        "- **Calculate the updated total networth of all clients combined**"
      ]
    },
    {
      "cell_type": "code",
      "metadata": {
        "id": "xqWCYc0n6V-d"
      },
      "source": [
        "def double_stock(price):\r\n",
        "  return price*2 + 100"
      ],
      "execution_count": 20,
      "outputs": []
    },
    {
      "cell_type": "code",
      "metadata": {
        "id": "dW5exU8voFud",
        "colab": {
          "base_uri": "https://localhost:8080/",
          "height": 171
        },
        "outputId": "8ca0f074-2118-4fa7-caf0-93eaaa1866cc"
      },
      "source": [
        "bank_client_df['Net Worth ($)'] = bank_client_df['Net Worth ($)'].apply(double_stock)\r\n",
        "bank_client_df"
      ],
      "execution_count": 22,
      "outputs": [
        {
          "output_type": "execute_result",
          "data": {
            "text/html": [
              "<div>\n",
              "<style scoped>\n",
              "    .dataframe tbody tr th:only-of-type {\n",
              "        vertical-align: middle;\n",
              "    }\n",
              "\n",
              "    .dataframe tbody tr th {\n",
              "        vertical-align: top;\n",
              "    }\n",
              "\n",
              "    .dataframe thead th {\n",
              "        text-align: right;\n",
              "    }\n",
              "</style>\n",
              "<table border=\"1\" class=\"dataframe\">\n",
              "  <thead>\n",
              "    <tr style=\"text-align: right;\">\n",
              "      <th></th>\n",
              "      <th>Bank CLient Name</th>\n",
              "      <th>Net Worth ($)</th>\n",
              "      <th>Years with Bank</th>\n",
              "    </tr>\n",
              "  </thead>\n",
              "  <tbody>\n",
              "    <tr>\n",
              "      <th>0</th>\n",
              "      <td>Chanel</td>\n",
              "      <td>7100</td>\n",
              "      <td>3</td>\n",
              "    </tr>\n",
              "    <tr>\n",
              "      <th>1</th>\n",
              "      <td>Steve</td>\n",
              "      <td>58100</td>\n",
              "      <td>4</td>\n",
              "    </tr>\n",
              "    <tr>\n",
              "      <th>2</th>\n",
              "      <td>Mitch</td>\n",
              "      <td>20100</td>\n",
              "      <td>9</td>\n",
              "    </tr>\n",
              "    <tr>\n",
              "      <th>3</th>\n",
              "      <td>Ryan</td>\n",
              "      <td>4100</td>\n",
              "      <td>5</td>\n",
              "    </tr>\n",
              "  </tbody>\n",
              "</table>\n",
              "</div>"
            ],
            "text/plain": [
              "  Bank CLient Name  Net Worth ($)  Years with Bank\n",
              "0           Chanel           7100                3\n",
              "1            Steve          58100                4\n",
              "2            Mitch          20100                9\n",
              "3             Ryan           4100                5"
            ]
          },
          "metadata": {
            "tags": []
          },
          "execution_count": 22
        }
      ]
    },
    {
      "cell_type": "code",
      "metadata": {
        "id": "F0ctpy1eoFsd"
      },
      "source": [
        "Total_Networth = bank_client_df['Net Worth ($)'].sum()"
      ],
      "execution_count": 23,
      "outputs": []
    },
    {
      "cell_type": "code",
      "metadata": {
        "id": "CEBxdOd9oFqA",
        "colab": {
          "base_uri": "https://localhost:8080/"
        },
        "outputId": "98be2a83-39aa-454c-d4e6-298e063f028e"
      },
      "source": [
        "Total_Networth"
      ],
      "execution_count": 24,
      "outputs": [
        {
          "output_type": "execute_result",
          "data": {
            "text/plain": [
              "89400"
            ]
          },
          "metadata": {
            "tags": []
          },
          "execution_count": 24
        }
      ]
    },
    {
      "cell_type": "markdown",
      "metadata": {
        "id": "LKDuJ94RvB85"
      },
      "source": [
        "# 5. SORTING AND ORDERING"
      ]
    },
    {
      "cell_type": "code",
      "metadata": {
        "id": "f-aRTmn9u7DA"
      },
      "source": [
        "# Let's define a dataframe as follows:\n"
      ],
      "execution_count": null,
      "outputs": []
    },
    {
      "cell_type": "code",
      "metadata": {
        "id": "DaglhPNevFYC"
      },
      "source": [
        "# You can sort the values in the dataframe according to number of years with bank\n"
      ],
      "execution_count": null,
      "outputs": []
    },
    {
      "cell_type": "code",
      "metadata": {
        "id": "AjzLtDlevFaW"
      },
      "source": [
        "# Note that nothing changed in memory! you have to make sure that inplace is set to True\n"
      ],
      "execution_count": null,
      "outputs": []
    },
    {
      "cell_type": "code",
      "metadata": {
        "id": "Pgt25eXmvFce"
      },
      "source": [
        "# Set inplace = True to ensure that change has taken place in memory \n"
      ],
      "execution_count": null,
      "outputs": []
    },
    {
      "cell_type": "code",
      "metadata": {
        "id": "jEw2Gw_hu7Fo"
      },
      "source": [
        "# Note that now the change (ordering) took place \n"
      ],
      "execution_count": null,
      "outputs": []
    },
    {
      "cell_type": "markdown",
      "metadata": {
        "id": "7bV_Yaq46ZTg"
      },
      "source": [
        "**MINI CHALLENGE #5:**\n",
        "- **Sort customers by networth instead of years with bank. Make sure to update values in-memory.**"
      ]
    },
    {
      "cell_type": "code",
      "metadata": {
        "id": "BYCD1yGi6q2M",
        "colab": {
          "base_uri": "https://localhost:8080/",
          "height": 171
        },
        "outputId": "1a3e842b-27e8-4e5c-8773-542458b0a3e2"
      },
      "source": [
        "bank_client_df.sort_values(by='Net Worth ($)',inplace=True)\r\n",
        "bank_client_df"
      ],
      "execution_count": 30,
      "outputs": [
        {
          "output_type": "execute_result",
          "data": {
            "text/html": [
              "<div>\n",
              "<style scoped>\n",
              "    .dataframe tbody tr th:only-of-type {\n",
              "        vertical-align: middle;\n",
              "    }\n",
              "\n",
              "    .dataframe tbody tr th {\n",
              "        vertical-align: top;\n",
              "    }\n",
              "\n",
              "    .dataframe thead th {\n",
              "        text-align: right;\n",
              "    }\n",
              "</style>\n",
              "<table border=\"1\" class=\"dataframe\">\n",
              "  <thead>\n",
              "    <tr style=\"text-align: right;\">\n",
              "      <th></th>\n",
              "      <th>Bank CLient Name</th>\n",
              "      <th>Net Worth ($)</th>\n",
              "      <th>Years with Bank</th>\n",
              "    </tr>\n",
              "  </thead>\n",
              "  <tbody>\n",
              "    <tr>\n",
              "      <th>3</th>\n",
              "      <td>Ryan</td>\n",
              "      <td>4100</td>\n",
              "      <td>5</td>\n",
              "    </tr>\n",
              "    <tr>\n",
              "      <th>0</th>\n",
              "      <td>Chanel</td>\n",
              "      <td>7100</td>\n",
              "      <td>3</td>\n",
              "    </tr>\n",
              "    <tr>\n",
              "      <th>2</th>\n",
              "      <td>Mitch</td>\n",
              "      <td>20100</td>\n",
              "      <td>9</td>\n",
              "    </tr>\n",
              "    <tr>\n",
              "      <th>1</th>\n",
              "      <td>Steve</td>\n",
              "      <td>58100</td>\n",
              "      <td>4</td>\n",
              "    </tr>\n",
              "  </tbody>\n",
              "</table>\n",
              "</div>"
            ],
            "text/plain": [
              "  Bank CLient Name  Net Worth ($)  Years with Bank\n",
              "3             Ryan           4100                5\n",
              "0           Chanel           7100                3\n",
              "2            Mitch          20100                9\n",
              "1            Steve          58100                4"
            ]
          },
          "metadata": {
            "tags": []
          },
          "execution_count": 30
        }
      ]
    },
    {
      "cell_type": "markdown",
      "metadata": {
        "id": "XAix4DVfvKGe"
      },
      "source": [
        "# 6. CONCATENATING AND MERGING WITH PANDAS"
      ]
    },
    {
      "cell_type": "markdown",
      "metadata": {
        "id": "eMBioTTMvWXI"
      },
      "source": [
        "Check this out: https://pandas.pydata.org/pandas-docs/stable/user_guide/merging.html"
      ]
    },
    {
      "cell_type": "code",
      "metadata": {
        "id": "b1zfk3Euu7Bx"
      },
      "source": [
        "df1 = pd.DataFrame({'A':['A0','A1','A2','A3'],\r\n",
        "                    'B': ['B0','B1','B2','B3'],\r\n",
        "                    'C': ['c0','C1','C2','C3'],\r\n",
        "                    'D': ['D0','D1','D2','D3']},\r\n",
        "                    index = [0,1,2,3])\r\n",
        "df2 = pd.DataFrame({\"A\": [\"A4\", \"A5\", \"A6\", \"A7\"],\r\n",
        "                    \"B\": [\"B4\", \"B5\", \"B6\", \"B7\"],\r\n",
        "                    \"C\": [\"C4\", \"C5\", \"C6\", \"C7\"],\r\n",
        "                    \"D\": [\"D4\", \"D5\", \"D6\", \"D7\"]},\r\n",
        "                   index = [4,5,6,7])"
      ],
      "execution_count": 34,
      "outputs": []
    },
    {
      "cell_type": "code",
      "metadata": {
        "id": "MfimJ_PPvQIA"
      },
      "source": [
        "df3 = pd.DataFrame({\"A\": [\"A8\", \"A9\", \"A10\", \"A11\"],\r\n",
        "                    \"B\": [\"B8\", \"B9\", \"B10\", \"B11\"],\r\n",
        "                    \"C\": [\"C8\", \"C9\", \"C10\", \"C11\"],\r\n",
        "                    \"D\": [\"D8\", \"D9\", \"D10\", \"D11\"]},\r\n",
        "                   index=[8, 9, 10, 11])"
      ],
      "execution_count": 39,
      "outputs": []
    },
    {
      "cell_type": "code",
      "metadata": {
        "id": "dKyIG2MjvQKN",
        "colab": {
          "base_uri": "https://localhost:8080/",
          "height": 171
        },
        "outputId": "12cee1b2-0911-4fca-b354-a7c100a7e4f9"
      },
      "source": [
        "df1\r\n"
      ],
      "execution_count": 40,
      "outputs": [
        {
          "output_type": "execute_result",
          "data": {
            "text/html": [
              "<div>\n",
              "<style scoped>\n",
              "    .dataframe tbody tr th:only-of-type {\n",
              "        vertical-align: middle;\n",
              "    }\n",
              "\n",
              "    .dataframe tbody tr th {\n",
              "        vertical-align: top;\n",
              "    }\n",
              "\n",
              "    .dataframe thead th {\n",
              "        text-align: right;\n",
              "    }\n",
              "</style>\n",
              "<table border=\"1\" class=\"dataframe\">\n",
              "  <thead>\n",
              "    <tr style=\"text-align: right;\">\n",
              "      <th></th>\n",
              "      <th>A</th>\n",
              "      <th>B</th>\n",
              "      <th>C</th>\n",
              "      <th>D</th>\n",
              "    </tr>\n",
              "  </thead>\n",
              "  <tbody>\n",
              "    <tr>\n",
              "      <th>0</th>\n",
              "      <td>A0</td>\n",
              "      <td>B0</td>\n",
              "      <td>c0</td>\n",
              "      <td>D0</td>\n",
              "    </tr>\n",
              "    <tr>\n",
              "      <th>1</th>\n",
              "      <td>A1</td>\n",
              "      <td>B1</td>\n",
              "      <td>C1</td>\n",
              "      <td>D1</td>\n",
              "    </tr>\n",
              "    <tr>\n",
              "      <th>2</th>\n",
              "      <td>A2</td>\n",
              "      <td>B2</td>\n",
              "      <td>C2</td>\n",
              "      <td>D2</td>\n",
              "    </tr>\n",
              "    <tr>\n",
              "      <th>3</th>\n",
              "      <td>A3</td>\n",
              "      <td>B3</td>\n",
              "      <td>C3</td>\n",
              "      <td>D3</td>\n",
              "    </tr>\n",
              "  </tbody>\n",
              "</table>\n",
              "</div>"
            ],
            "text/plain": [
              "    A   B   C   D\n",
              "0  A0  B0  c0  D0\n",
              "1  A1  B1  C1  D1\n",
              "2  A2  B2  C2  D2\n",
              "3  A3  B3  C3  D3"
            ]
          },
          "metadata": {
            "tags": []
          },
          "execution_count": 40
        }
      ]
    },
    {
      "cell_type": "code",
      "metadata": {
        "id": "wNuUFBsqvQMU",
        "colab": {
          "base_uri": "https://localhost:8080/",
          "height": 417
        },
        "outputId": "da5efe22-8fc7-4afa-bcc8-988614912511"
      },
      "source": [
        "df= pd.DataFrame()\r\n",
        "df =pd.concat([df1,df2,df3])\r\n",
        "df"
      ],
      "execution_count": 45,
      "outputs": [
        {
          "output_type": "execute_result",
          "data": {
            "text/html": [
              "<div>\n",
              "<style scoped>\n",
              "    .dataframe tbody tr th:only-of-type {\n",
              "        vertical-align: middle;\n",
              "    }\n",
              "\n",
              "    .dataframe tbody tr th {\n",
              "        vertical-align: top;\n",
              "    }\n",
              "\n",
              "    .dataframe thead th {\n",
              "        text-align: right;\n",
              "    }\n",
              "</style>\n",
              "<table border=\"1\" class=\"dataframe\">\n",
              "  <thead>\n",
              "    <tr style=\"text-align: right;\">\n",
              "      <th></th>\n",
              "      <th>A</th>\n",
              "      <th>B</th>\n",
              "      <th>C</th>\n",
              "      <th>D</th>\n",
              "    </tr>\n",
              "  </thead>\n",
              "  <tbody>\n",
              "    <tr>\n",
              "      <th>0</th>\n",
              "      <td>A0</td>\n",
              "      <td>B0</td>\n",
              "      <td>c0</td>\n",
              "      <td>D0</td>\n",
              "    </tr>\n",
              "    <tr>\n",
              "      <th>1</th>\n",
              "      <td>A1</td>\n",
              "      <td>B1</td>\n",
              "      <td>C1</td>\n",
              "      <td>D1</td>\n",
              "    </tr>\n",
              "    <tr>\n",
              "      <th>2</th>\n",
              "      <td>A2</td>\n",
              "      <td>B2</td>\n",
              "      <td>C2</td>\n",
              "      <td>D2</td>\n",
              "    </tr>\n",
              "    <tr>\n",
              "      <th>3</th>\n",
              "      <td>A3</td>\n",
              "      <td>B3</td>\n",
              "      <td>C3</td>\n",
              "      <td>D3</td>\n",
              "    </tr>\n",
              "    <tr>\n",
              "      <th>0</th>\n",
              "      <td>A4</td>\n",
              "      <td>B4</td>\n",
              "      <td>C4</td>\n",
              "      <td>D4</td>\n",
              "    </tr>\n",
              "    <tr>\n",
              "      <th>1</th>\n",
              "      <td>A5</td>\n",
              "      <td>B5</td>\n",
              "      <td>C5</td>\n",
              "      <td>D5</td>\n",
              "    </tr>\n",
              "    <tr>\n",
              "      <th>2</th>\n",
              "      <td>A6</td>\n",
              "      <td>B6</td>\n",
              "      <td>C6</td>\n",
              "      <td>D6</td>\n",
              "    </tr>\n",
              "    <tr>\n",
              "      <th>3</th>\n",
              "      <td>A7</td>\n",
              "      <td>B7</td>\n",
              "      <td>C7</td>\n",
              "      <td>D7</td>\n",
              "    </tr>\n",
              "    <tr>\n",
              "      <th>8</th>\n",
              "      <td>A8</td>\n",
              "      <td>B8</td>\n",
              "      <td>C8</td>\n",
              "      <td>D8</td>\n",
              "    </tr>\n",
              "    <tr>\n",
              "      <th>9</th>\n",
              "      <td>A9</td>\n",
              "      <td>B9</td>\n",
              "      <td>C9</td>\n",
              "      <td>D9</td>\n",
              "    </tr>\n",
              "    <tr>\n",
              "      <th>10</th>\n",
              "      <td>A10</td>\n",
              "      <td>B10</td>\n",
              "      <td>C10</td>\n",
              "      <td>D10</td>\n",
              "    </tr>\n",
              "    <tr>\n",
              "      <th>11</th>\n",
              "      <td>A11</td>\n",
              "      <td>B11</td>\n",
              "      <td>C11</td>\n",
              "      <td>D11</td>\n",
              "    </tr>\n",
              "  </tbody>\n",
              "</table>\n",
              "</div>"
            ],
            "text/plain": [
              "      A    B    C    D\n",
              "0    A0   B0   c0   D0\n",
              "1    A1   B1   C1   D1\n",
              "2    A2   B2   C2   D2\n",
              "3    A3   B3   C3   D3\n",
              "0    A4   B4   C4   D4\n",
              "1    A5   B5   C5   D5\n",
              "2    A6   B6   C6   D6\n",
              "3    A7   B7   C7   D7\n",
              "8    A8   B8   C8   D8\n",
              "9    A9   B9   C9   D9\n",
              "10  A10  B10  C10  D10\n",
              "11  A11  B11  C11  D11"
            ]
          },
          "metadata": {
            "tags": []
          },
          "execution_count": 45
        }
      ]
    },
    {
      "cell_type": "code",
      "metadata": {
        "id": "BTmgXXvzvcKq"
      },
      "source": [
        ""
      ],
      "execution_count": null,
      "outputs": []
    },
    {
      "cell_type": "code",
      "metadata": {
        "id": "wI10aNahvcM1"
      },
      "source": [
        ""
      ],
      "execution_count": null,
      "outputs": []
    },
    {
      "cell_type": "code",
      "metadata": {
        "id": "ljXyrXSjvcPG"
      },
      "source": [
        ""
      ],
      "execution_count": null,
      "outputs": []
    },
    {
      "cell_type": "code",
      "metadata": {
        "id": "4_KBD8YGvcRV"
      },
      "source": [
        "# Creating a dataframe from a dictionary\n",
        "# Let's define a dataframe with a list of bank clients with IDs = 1, 2, 3, 4, 5 \n",
        "\n"
      ],
      "execution_count": null,
      "outputs": []
    },
    {
      "cell_type": "code",
      "metadata": {
        "id": "bVVjCOCAwubr"
      },
      "source": [
        ""
      ],
      "execution_count": null,
      "outputs": []
    },
    {
      "cell_type": "code",
      "metadata": {
        "id": "wq_TBWkvvgNE"
      },
      "source": [
        "# Let's define another dataframe for a separate list of clients (IDs = 6, 7, 8, 9, 10)\n"
      ],
      "execution_count": null,
      "outputs": []
    },
    {
      "cell_type": "code",
      "metadata": {
        "id": "zRgyJPjivgPZ"
      },
      "source": [
        "# Let's assume we obtained additional information (Annual Salary) about our bank customers \n",
        "# Note that data obtained is for all clients with IDs 1 to 10\n",
        " "
      ],
      "execution_count": null,
      "outputs": []
    },
    {
      "cell_type": "code",
      "metadata": {
        "id": "i2X65wc0vidf"
      },
      "source": [
        "# Let's concatenate both dataframes #1 and #2\n",
        "# Note that we now have client IDs from 1 to 10\n"
      ],
      "execution_count": null,
      "outputs": []
    },
    {
      "cell_type": "code",
      "metadata": {
        "id": "9bgjH8mkvQOY"
      },
      "source": [
        "# Let's merge all data on 'Bank Client ID'\n"
      ],
      "execution_count": null,
      "outputs": []
    },
    {
      "cell_type": "code",
      "metadata": {
        "id": "5g5tCggp9gce"
      },
      "source": [
        ""
      ],
      "execution_count": null,
      "outputs": []
    },
    {
      "cell_type": "markdown",
      "metadata": {
        "id": "Wm5PRpCM-2pK"
      },
      "source": [
        "**MINI CHALLENGE #6:**\n",
        "- **Let's assume that you became a new client to the bank**\n",
        "- **Define a new DataFrame that contains your information such as client ID (choose 11), first name, last name, and annual salary.**\n",
        "- **Add this new dataframe to the original dataframe \"bank_df_all\".** "
      ]
    },
    {
      "cell_type": "code",
      "metadata": {
        "id": "WpoFZeCt_g0c"
      },
      "source": [
        ""
      ],
      "execution_count": null,
      "outputs": []
    },
    {
      "cell_type": "code",
      "metadata": {
        "id": "WcmoZpFt0-fW"
      },
      "source": [
        ""
      ],
      "execution_count": null,
      "outputs": []
    },
    {
      "cell_type": "code",
      "metadata": {
        "id": "XQiP3NFy1Jbi"
      },
      "source": [
        ""
      ],
      "execution_count": null,
      "outputs": []
    },
    {
      "cell_type": "markdown",
      "metadata": {
        "id": "i1gJS3K7vlxd"
      },
      "source": [
        "# EXCELLENT JOB!"
      ]
    },
    {
      "cell_type": "markdown",
      "metadata": {
        "id": "MF2SdJZ_vn4z"
      },
      "source": [
        "# MINI CHALLENGE SOLUTIONS"
      ]
    },
    {
      "cell_type": "markdown",
      "metadata": {
        "id": "Y6fUsXPv1Wom"
      },
      "source": [
        "**MINI CHALLENGE #1 SOLUTION:**\n",
        "- **A porfolio contains a collection of securities such as stocks, bonds and ETFs. Define a dataframe named 'portfolio_df' that holds 3 different stock ticker symbols, number of shares, and price per share (feel free to choose any stocks)**\n",
        "- **Calculate the total value of the porfolio including all stocks**"
      ]
    },
    {
      "cell_type": "code",
      "metadata": {
        "id": "8pftwyY81Wos"
      },
      "source": [
        "portfolio_df = pd.DataFrame({'stock ticker symbols':['AAPL', 'AMZN', 'T'],\n",
        "                             'price per share [$]':[3500, 200, 40], \n",
        "                             'Number of stocks':[3, 4, 9]})\n",
        "portfolio_df"
      ],
      "execution_count": null,
      "outputs": []
    },
    {
      "cell_type": "code",
      "metadata": {
        "id": "zTgj_BoE1Woy"
      },
      "source": [
        "stocks_dollar_value = portfolio_df['price per share [$]'] * portfolio_df['Number of stocks']\n",
        "print(stocks_dollar_value)\n",
        "print('Total portfolio value = {}'.format(stocks_dollar_value.sum()))"
      ],
      "execution_count": null,
      "outputs": []
    },
    {
      "cell_type": "markdown",
      "metadata": {
        "id": "5YQ1rFW723fN"
      },
      "source": [
        "**MINI CHALLENGE #2 SOLUTION:**\n",
        "- **Write a code that uses Pandas to read tabular US retirement data**\n",
        "- **You can use data from here: https://www.ssa.gov/oact/progdata/nra.html** "
      ]
    },
    {
      "cell_type": "code",
      "metadata": {
        "id": "mmWTN7yD23fQ"
      },
      "source": [
        "# Read tabular data using read_html\n",
        "retirement_age_df = pd.read_html('https://www.ssa.gov/oact/progdata/nra.html')\n",
        "retirement_age_df"
      ],
      "execution_count": null,
      "outputs": []
    },
    {
      "cell_type": "markdown",
      "metadata": {
        "id": "qN1gAggk4QvE"
      },
      "source": [
        "**MINI CHALLENGE #3 SOLUTION:**\n",
        "- **Using \"bank_client_df\" DataFrame, leverage pandas operations to only select high networth individuals with minimum $5000** \n",
        "- **What is the combined networth for all customers with 5000+ networth?**"
      ]
    },
    {
      "cell_type": "code",
      "metadata": {
        "id": "CSN32b-o4QvG"
      },
      "source": [
        "df_high_networth = bank_client_df[ (bank_client_df['Net worth [$]'] >= 5000) ]\n",
        "df_high_networth"
      ],
      "execution_count": null,
      "outputs": []
    },
    {
      "cell_type": "code",
      "metadata": {
        "id": "8x2FQdmp4QvN"
      },
      "source": [
        "df_high_networth['Net worth [$]'].sum()"
      ],
      "execution_count": null,
      "outputs": []
    },
    {
      "cell_type": "code",
      "metadata": {
        "id": "zubS-MOi6O-y"
      },
      "source": [
        ""
      ],
      "execution_count": null,
      "outputs": []
    },
    {
      "cell_type": "markdown",
      "metadata": {
        "id": "T3xpj-hW6PYi"
      },
      "source": [
        "**MINI CHALLENGE #4 SOLUTION:**\n",
        "- **Define a function that doubles stock prices and adds $100**\n",
        "- **Apply the function to the DataFrame**\n",
        "- **Calculate the updated total networth of all clients combined**"
      ]
    },
    {
      "cell_type": "code",
      "metadata": {
        "id": "S8O56b_W6PYk"
      },
      "source": [
        "def networth_update(balance):\n",
        "    return balance * 2 + 100 # assume that stock prices increased by 10%"
      ],
      "execution_count": null,
      "outputs": []
    },
    {
      "cell_type": "code",
      "metadata": {
        "id": "r2crG2yx6PYt"
      },
      "source": [
        "# You can apply a function to the DataFrame \n",
        "results = bank_client_df['Net worth [$]'].apply(networth_update)\n",
        "results"
      ],
      "execution_count": null,
      "outputs": []
    },
    {
      "cell_type": "code",
      "metadata": {
        "id": "SAzpFD5Y6PY1"
      },
      "source": [
        "results.sum()"
      ],
      "execution_count": null,
      "outputs": []
    },
    {
      "cell_type": "markdown",
      "metadata": {
        "id": "Trx36mNb62JX"
      },
      "source": [
        "**MINI CHALLENGE #5 SOLUTION:**\n",
        "- **Sort customers by networth instead of years with bank. Make sure to update values in-memory.**"
      ]
    },
    {
      "cell_type": "code",
      "metadata": {
        "id": "b4nvA-VQ62Ja"
      },
      "source": [
        "# You can sort the values in the dataframe according to number of years with bank\n",
        "bank_client_df.sort_values(by = 'Net worth [$]', inplace = True) \n",
        "bank_client_df"
      ],
      "execution_count": null,
      "outputs": []
    },
    {
      "cell_type": "markdown",
      "metadata": {
        "id": "i83R6Kvb_cGZ"
      },
      "source": [
        "**MINI CHALLENGE #6 SOLUTION:**\n",
        "- **Let's assume that you became a new client to the bank**\n",
        "- **Define a new DataFrame that contains your information such as client ID (choose 11), first name, last name, and annual salary.**\n",
        "- **Add this new dataframe to the original dataframe \"bank_df_all\".** "
      ]
    },
    {
      "cell_type": "code",
      "metadata": {
        "id": "YmxlF6op_cGc"
      },
      "source": [
        "new_client = {\n",
        "        'Bank Client ID': ['11'],\n",
        "        'First Name': ['Ry'], \n",
        "        'Last Name': ['Aly'],\n",
        "        'Annual Salary [$/year]' : [1000]}\n",
        "new_client_df = pd.DataFrame(new_client, columns = ['Bank Client ID', 'First Name', 'Last Name', 'Annual Salary [$/year]'])\n",
        "new_client_df"
      ],
      "execution_count": null,
      "outputs": []
    },
    {
      "cell_type": "code",
      "metadata": {
        "id": "dhOKOcVR_cGl"
      },
      "source": [
        "new_df = pd.concat([bank_df_all, new_client_df], axis = 0)\n",
        "new_df"
      ],
      "execution_count": null,
      "outputs": []
    }
  ]
}