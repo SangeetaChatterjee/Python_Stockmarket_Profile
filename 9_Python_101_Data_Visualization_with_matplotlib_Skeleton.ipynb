{
  "nbformat": 4,
  "nbformat_minor": 0,
  "metadata": {
    "colab": {
      "name": "9. Python 101 - Data Visualization with matplotlib - Skeleton.ipynb",
      "provenance": [],
      "collapsed_sections": [],
      "toc_visible": true,
      "include_colab_link": true
    },
    "kernelspec": {
      "name": "python3",
      "display_name": "Python 3"
    }
  },
  "cells": [
    {
      "cell_type": "markdown",
      "metadata": {
        "id": "view-in-github",
        "colab_type": "text"
      },
      "source": [
        "<a href=\"https://colab.research.google.com/github/SangeetaChatterjee/Udemy01_PythonBasics/blob/main/9_Python_101_Data_Visualization_with_matplotlib_Skeleton.ipynb\" target=\"_parent\"><img src=\"https://colab.research.google.com/assets/colab-badge.svg\" alt=\"Open In Colab\"/></a>"
      ]
    },
    {
      "cell_type": "markdown",
      "metadata": {
        "id": "SFN66X63c2RL"
      },
      "source": [
        "# 1. BASIC LINE PLOT"
      ]
    },
    {
      "cell_type": "code",
      "metadata": {
        "id": "gJIkRSlJXRPf"
      },
      "source": [
        "\n",
        "import matplotlib.pyplot as plt\n",
        "import numpy as np\n",
        "import pandas as pd"
      ],
      "execution_count": 1,
      "outputs": []
    },
    {
      "cell_type": "code",
      "metadata": {
        "id": "inkBDe-nXRUA",
        "colab": {
          "base_uri": "https://localhost:8080/"
        },
        "outputId": "3fb66526-6d34-41b5-9f08-deceeaf9a4b6"
      },
      "source": [
        "from google.colab import drive\r\n",
        "drive.mount('/content/drive')"
      ],
      "execution_count": 2,
      "outputs": [
        {
          "output_type": "stream",
          "text": [
            "Mounted at /content/drive\n"
          ],
          "name": "stdout"
        }
      ]
    },
    {
      "cell_type": "code",
      "metadata": {
        "id": "FvlrxCdTc55r"
      },
      "source": [
        "# Read the stock prices data using pandas\n"
      ],
      "execution_count": null,
      "outputs": []
    },
    {
      "cell_type": "code",
      "metadata": {
        "id": "faUG290aLAcq",
        "colab": {
          "base_uri": "https://localhost:8080/",
          "height": 415
        },
        "outputId": "b58392bd-34c2-4993-9053-5184bf8452c6"
      },
      "source": [
        "stock_df = pd.read_csv('/content/drive/MyDrive/Python_Colab/Financial_Analysis/Part 1. Python Programming Fundamentals/stocks.csv')\r\n",
        "stock_df"
      ],
      "execution_count": 6,
      "outputs": [
        {
          "output_type": "execute_result",
          "data": {
            "text/html": [
              "<div>\n",
              "<style scoped>\n",
              "    .dataframe tbody tr th:only-of-type {\n",
              "        vertical-align: middle;\n",
              "    }\n",
              "\n",
              "    .dataframe tbody tr th {\n",
              "        vertical-align: top;\n",
              "    }\n",
              "\n",
              "    .dataframe thead th {\n",
              "        text-align: right;\n",
              "    }\n",
              "</style>\n",
              "<table border=\"1\" class=\"dataframe\">\n",
              "  <thead>\n",
              "    <tr style=\"text-align: right;\">\n",
              "      <th></th>\n",
              "      <th>Date</th>\n",
              "      <th>AAPL</th>\n",
              "      <th>BA</th>\n",
              "      <th>T</th>\n",
              "      <th>MGM</th>\n",
              "      <th>AMZN</th>\n",
              "      <th>IBM</th>\n",
              "      <th>TSLA</th>\n",
              "      <th>GOOG</th>\n",
              "      <th>sp500</th>\n",
              "    </tr>\n",
              "  </thead>\n",
              "  <tbody>\n",
              "    <tr>\n",
              "      <th>0</th>\n",
              "      <td>2012-01-12</td>\n",
              "      <td>60.198570</td>\n",
              "      <td>75.510002</td>\n",
              "      <td>30.120001</td>\n",
              "      <td>12.130000</td>\n",
              "      <td>175.929993</td>\n",
              "      <td>180.550003</td>\n",
              "      <td>28.250000</td>\n",
              "      <td>313.644379</td>\n",
              "      <td>1295.500000</td>\n",
              "    </tr>\n",
              "    <tr>\n",
              "      <th>1</th>\n",
              "      <td>2012-01-13</td>\n",
              "      <td>59.972858</td>\n",
              "      <td>74.599998</td>\n",
              "      <td>30.070000</td>\n",
              "      <td>12.350000</td>\n",
              "      <td>178.419998</td>\n",
              "      <td>179.160004</td>\n",
              "      <td>22.790001</td>\n",
              "      <td>311.328064</td>\n",
              "      <td>1289.089966</td>\n",
              "    </tr>\n",
              "    <tr>\n",
              "      <th>2</th>\n",
              "      <td>2012-01-17</td>\n",
              "      <td>60.671429</td>\n",
              "      <td>75.239998</td>\n",
              "      <td>30.250000</td>\n",
              "      <td>12.250000</td>\n",
              "      <td>181.660004</td>\n",
              "      <td>180.000000</td>\n",
              "      <td>26.600000</td>\n",
              "      <td>313.116364</td>\n",
              "      <td>1293.670044</td>\n",
              "    </tr>\n",
              "    <tr>\n",
              "      <th>3</th>\n",
              "      <td>2012-01-18</td>\n",
              "      <td>61.301430</td>\n",
              "      <td>75.059998</td>\n",
              "      <td>30.330000</td>\n",
              "      <td>12.730000</td>\n",
              "      <td>189.440002</td>\n",
              "      <td>181.070007</td>\n",
              "      <td>26.809999</td>\n",
              "      <td>315.273285</td>\n",
              "      <td>1308.040039</td>\n",
              "    </tr>\n",
              "    <tr>\n",
              "      <th>4</th>\n",
              "      <td>2012-01-19</td>\n",
              "      <td>61.107143</td>\n",
              "      <td>75.559998</td>\n",
              "      <td>30.420000</td>\n",
              "      <td>12.800000</td>\n",
              "      <td>194.449997</td>\n",
              "      <td>180.520004</td>\n",
              "      <td>26.760000</td>\n",
              "      <td>318.590851</td>\n",
              "      <td>1314.500000</td>\n",
              "    </tr>\n",
              "    <tr>\n",
              "      <th>...</th>\n",
              "      <td>...</td>\n",
              "      <td>...</td>\n",
              "      <td>...</td>\n",
              "      <td>...</td>\n",
              "      <td>...</td>\n",
              "      <td>...</td>\n",
              "      <td>...</td>\n",
              "      <td>...</td>\n",
              "      <td>...</td>\n",
              "      <td>...</td>\n",
              "    </tr>\n",
              "    <tr>\n",
              "      <th>2154</th>\n",
              "      <td>2020-08-05</td>\n",
              "      <td>440.250000</td>\n",
              "      <td>174.279999</td>\n",
              "      <td>29.850000</td>\n",
              "      <td>16.719999</td>\n",
              "      <td>3205.030029</td>\n",
              "      <td>125.449997</td>\n",
              "      <td>1485.020020</td>\n",
              "      <td>1473.609985</td>\n",
              "      <td>3327.770020</td>\n",
              "    </tr>\n",
              "    <tr>\n",
              "      <th>2155</th>\n",
              "      <td>2020-08-06</td>\n",
              "      <td>455.609985</td>\n",
              "      <td>172.199997</td>\n",
              "      <td>29.840000</td>\n",
              "      <td>18.459999</td>\n",
              "      <td>3225.000000</td>\n",
              "      <td>126.120003</td>\n",
              "      <td>1489.579956</td>\n",
              "      <td>1500.099976</td>\n",
              "      <td>3349.159912</td>\n",
              "    </tr>\n",
              "    <tr>\n",
              "      <th>2156</th>\n",
              "      <td>2020-08-07</td>\n",
              "      <td>444.450012</td>\n",
              "      <td>170.020004</td>\n",
              "      <td>30.020000</td>\n",
              "      <td>19.030001</td>\n",
              "      <td>3167.459961</td>\n",
              "      <td>124.959999</td>\n",
              "      <td>1452.709961</td>\n",
              "      <td>1494.489990</td>\n",
              "      <td>3351.280029</td>\n",
              "    </tr>\n",
              "    <tr>\n",
              "      <th>2157</th>\n",
              "      <td>2020-08-10</td>\n",
              "      <td>450.910004</td>\n",
              "      <td>179.410004</td>\n",
              "      <td>30.200001</td>\n",
              "      <td>21.650000</td>\n",
              "      <td>3148.159912</td>\n",
              "      <td>127.110001</td>\n",
              "      <td>1418.569946</td>\n",
              "      <td>1496.099976</td>\n",
              "      <td>3360.469971</td>\n",
              "    </tr>\n",
              "    <tr>\n",
              "      <th>2158</th>\n",
              "      <td>2020-08-11</td>\n",
              "      <td>437.500000</td>\n",
              "      <td>180.130005</td>\n",
              "      <td>30.200001</td>\n",
              "      <td>21.500000</td>\n",
              "      <td>3080.669922</td>\n",
              "      <td>126.750000</td>\n",
              "      <td>1374.390015</td>\n",
              "      <td>1480.319946</td>\n",
              "      <td>3333.689941</td>\n",
              "    </tr>\n",
              "  </tbody>\n",
              "</table>\n",
              "<p>2159 rows × 10 columns</p>\n",
              "</div>"
            ],
            "text/plain": [
              "            Date        AAPL          BA  ...         TSLA         GOOG        sp500\n",
              "0     2012-01-12   60.198570   75.510002  ...    28.250000   313.644379  1295.500000\n",
              "1     2012-01-13   59.972858   74.599998  ...    22.790001   311.328064  1289.089966\n",
              "2     2012-01-17   60.671429   75.239998  ...    26.600000   313.116364  1293.670044\n",
              "3     2012-01-18   61.301430   75.059998  ...    26.809999   315.273285  1308.040039\n",
              "4     2012-01-19   61.107143   75.559998  ...    26.760000   318.590851  1314.500000\n",
              "...          ...         ...         ...  ...          ...          ...          ...\n",
              "2154  2020-08-05  440.250000  174.279999  ...  1485.020020  1473.609985  3327.770020\n",
              "2155  2020-08-06  455.609985  172.199997  ...  1489.579956  1500.099976  3349.159912\n",
              "2156  2020-08-07  444.450012  170.020004  ...  1452.709961  1494.489990  3351.280029\n",
              "2157  2020-08-10  450.910004  179.410004  ...  1418.569946  1496.099976  3360.469971\n",
              "2158  2020-08-11  437.500000  180.130005  ...  1374.390015  1480.319946  3333.689941\n",
              "\n",
              "[2159 rows x 10 columns]"
            ]
          },
          "metadata": {
            "tags": []
          },
          "execution_count": 6
        }
      ]
    },
    {
      "cell_type": "code",
      "metadata": {
        "id": "yzw1v4zAfdPe",
        "colab": {
          "base_uri": "https://localhost:8080/",
          "height": 297
        },
        "outputId": "094e5d1d-0783-465a-cf3f-2ffaef45ad7e"
      },
      "source": [
        "stock_df.plot(y='AAPL',x='Date',label ='Stock by Date',linewidth =3)"
      ],
      "execution_count": 7,
      "outputs": [
        {
          "output_type": "execute_result",
          "data": {
            "text/plain": [
              "<matplotlib.axes._subplots.AxesSubplot at 0x7f2e2bdfd668>"
            ]
          },
          "metadata": {
            "tags": []
          },
          "execution_count": 7
        },
        {
          "output_type": "display_data",
          "data": {
            "image/png": "[encoded data removed]",
            "text/plain": [
              "<Figure size 432x288 with 1 Axes>"
            ]
          },
          "metadata": {
            "tags": [],
            "needs_background": "light"
          }
        }
      ]
    },
    {
      "cell_type": "markdown",
      "metadata": {
        "id": "Y0xttudVvOVe"
      },
      "source": [
        "**MINI CHALLLENGE #1:**\n",
        "- **Plot similar kind of graph for the S&P500**\n",
        "- **Change the line color to red**\n"
      ]
    },
    {
      "cell_type": "code",
      "metadata": {
        "id": "PGq_ZTEUv6u9",
        "colab": {
          "base_uri": "https://localhost:8080/",
          "height": 297
        },
        "outputId": "2c17890f-e228-4a20-c8fb-cfa790892966"
      },
      "source": [
        "stock_df.plot(y='sp500',x='Date',label ='Stock by Date',color ='r', linewidth =3)\r\n",
        "plt.ylabel('Price')\r\n",
        "plt.legend(loc = 'upper right')"
      ],
      "execution_count": 14,
      "outputs": [
        {
          "output_type": "execute_result",
          "data": {
            "text/plain": [
              "<matplotlib.legend.Legend at 0x7f2e2b3fb390>"
            ]
          },
          "metadata": {
            "tags": []
          },
          "execution_count": 14
        },
        {
          "output_type": "display_data",
          "data": {
            "image/png": "[encoded data removed]",
            "text/plain": [
              "<Figure size 432x288 with 1 Axes>"
            ]
          },
          "metadata": {
            "tags": [],
            "needs_background": "light"
          }
        }
      ]
    },
    {
      "cell_type": "markdown",
      "metadata": {
        "id": "Zt75d5cadpZI"
      },
      "source": [
        "# 2. SCATTERPLOT "
      ]
    },
    {
      "cell_type": "code",
      "metadata": {
        "id": "zW1BYqO9nQ2r"
      },
      "source": [
        "# Read daily return data using pandas\n"
      ],
      "execution_count": null,
      "outputs": []
    },
    {
      "cell_type": "code",
      "metadata": {
        "id": "mynyAlrOdMb3"
      },
      "source": [
        "\n"
      ],
      "execution_count": null,
      "outputs": []
    },
    {
      "cell_type": "markdown",
      "metadata": {
        "id": "LhOCJsINv7kx"
      },
      "source": [
        "**MINI CHALLLENGE #2:**\n",
        "- **Plot similar kind of graph for GOOG and sp500**\n"
      ]
    },
    {
      "cell_type": "code",
      "metadata": {
        "id": "MhBUfcMvwiKY"
      },
      "source": [
        ""
      ],
      "execution_count": null,
      "outputs": []
    },
    {
      "cell_type": "markdown",
      "metadata": {
        "id": "b-NkBddLe3IK"
      },
      "source": [
        "# 3. PIE CHART"
      ]
    },
    {
      "cell_type": "code",
      "metadata": {
        "id": "Hj7erO-_e2ph"
      },
      "source": [
        ""
      ],
      "execution_count": null,
      "outputs": []
    },
    {
      "cell_type": "markdown",
      "metadata": {
        "id": "pd-IMixVwfH0"
      },
      "source": [
        "**MINI CHALLENGE #3:**\n",
        "- **Plot the pie chart for the same stocks assuming equal allocation**\n",
        "- **Explode Amazon and Google slices**\n"
      ]
    },
    {
      "cell_type": "code",
      "metadata": {
        "id": "3t4uDR6ixE3x"
      },
      "source": [
        ""
      ],
      "execution_count": null,
      "outputs": []
    },
    {
      "cell_type": "markdown",
      "metadata": {
        "id": "wmjT_xMffg-X"
      },
      "source": [
        "# 4. HISTOGRAMS"
      ]
    },
    {
      "cell_type": "code",
      "metadata": {
        "id": "NH2akC9gfkXZ"
      },
      "source": [
        "# A histogram represents data using bars of various heights. \n",
        "# Each bar groups numbers into specific ranges. \n",
        "# Taller bars show that more data falls within that specific range.\n",
        "\n"
      ],
      "execution_count": null,
      "outputs": []
    },
    {
      "cell_type": "code",
      "metadata": {
        "id": "mw-lwGlCt8vg"
      },
      "source": [
        ""
      ],
      "execution_count": null,
      "outputs": []
    },
    {
      "cell_type": "code",
      "metadata": {
        "id": "XLa5MPTAt8y6"
      },
      "source": [
        ""
      ],
      "execution_count": null,
      "outputs": []
    },
    {
      "cell_type": "code",
      "metadata": {
        "id": "TzmnZxOwuMwN"
      },
      "source": [
        ""
      ],
      "execution_count": null,
      "outputs": []
    },
    {
      "cell_type": "code",
      "metadata": {
        "id": "rwwXuFGsuPgR"
      },
      "source": [
        ""
      ],
      "execution_count": null,
      "outputs": []
    },
    {
      "cell_type": "code",
      "metadata": {
        "id": "Mz3hDZcJuPi9"
      },
      "source": [
        ""
      ],
      "execution_count": null,
      "outputs": []
    },
    {
      "cell_type": "markdown",
      "metadata": {
        "id": "KbUO6G-WxSWX"
      },
      "source": [
        "**MINI CHALLLENGE #4:**\n",
        "- **Plot the histogram for GOOG returns using 30 bins**\n"
      ]
    },
    {
      "cell_type": "code",
      "metadata": {
        "id": "Q5ZC0deKyAHy"
      },
      "source": [
        ""
      ],
      "execution_count": null,
      "outputs": []
    },
    {
      "cell_type": "markdown",
      "metadata": {
        "id": "BTQLC7N3hXFP"
      },
      "source": [
        "# 5. MULTIPLE PLOTS"
      ]
    },
    {
      "cell_type": "code",
      "metadata": {
        "id": "GCnCE99wNCQ4"
      },
      "source": [
        ""
      ],
      "execution_count": null,
      "outputs": []
    },
    {
      "cell_type": "markdown",
      "metadata": {
        "id": "_abD6J9HxT3F"
      },
      "source": [
        "**MINI CHALLLENGE #5:**\n",
        "- **Plot a similar graph containing prices of AAPL, sp500 and GOOG**\n",
        "- **Add legend indicating S&P500, AAPL and GOOG**\n",
        "- **Place the legend in the \"upper center\" location** \n"
      ]
    },
    {
      "cell_type": "code",
      "metadata": {
        "id": "txAd6ldiacDS"
      },
      "source": [
        ""
      ],
      "execution_count": null,
      "outputs": []
    },
    {
      "cell_type": "markdown",
      "metadata": {
        "id": "LMec3MtVhj7U"
      },
      "source": [
        "# 6. SUBPLOTS"
      ]
    },
    {
      "cell_type": "code",
      "metadata": {
        "id": "x54BNHlshgp8"
      },
      "source": [
        "\n",
        "\n"
      ],
      "execution_count": null,
      "outputs": []
    },
    {
      "cell_type": "code",
      "metadata": {
        "id": "Iz3yKDybhoXV"
      },
      "source": [
        ""
      ],
      "execution_count": null,
      "outputs": []
    },
    {
      "cell_type": "markdown",
      "metadata": {
        "id": "9ikBNbK8xVdp"
      },
      "source": [
        "**MINI CHALLLENGE #6:**\n",
        "- **Create subplots like above for GOOG, AAPL and sp500**\n"
      ]
    },
    {
      "cell_type": "code",
      "metadata": {
        "id": "0_NHeonay6Jr"
      },
      "source": [
        "\n"
      ],
      "execution_count": null,
      "outputs": []
    },
    {
      "cell_type": "markdown",
      "metadata": {
        "id": "0DkuOB6jje-T"
      },
      "source": [
        "# 7. 3D PLOTS"
      ]
    },
    {
      "cell_type": "code",
      "metadata": {
        "id": "uk9JlBKYhvOG"
      },
      "source": [
        "# Toolkits are collections of application-specific functions that extend Matplotlib.\n",
        "# mpl_toolkits.mplot3d provides tools for basic 3D plotting.\n",
        "# https://matplotlib.org/mpl_toolkits/index.html\n",
        "\n"
      ],
      "execution_count": null,
      "outputs": []
    },
    {
      "cell_type": "markdown",
      "metadata": {
        "id": "btSvXnR6xWtl"
      },
      "source": [
        "**MINI CHALLLENGE #7:**\n",
        "- **Create a 3D plot with daily return values of sp500, GOOG and AAPL**\n"
      ]
    },
    {
      "cell_type": "code",
      "metadata": {
        "id": "v-pZxhASz1w1"
      },
      "source": [
        ""
      ],
      "execution_count": null,
      "outputs": []
    },
    {
      "cell_type": "markdown",
      "metadata": {
        "id": "3ixh-5_Rjy-i"
      },
      "source": [
        "# 8. BOXPLOTS"
      ]
    },
    {
      "cell_type": "code",
      "metadata": {
        "id": "OT7COwptjknl"
      },
      "source": [
        "# numpy.random.normal() takes three arguments: mean, standard deviation of the normal distribution, and number of values desired.\n",
        "# Great resource: https://stackoverflow.com/questions/17725927/boxplots-in-matplotlib-markers-and-outliers\n",
        "\n"
      ],
      "execution_count": null,
      "outputs": []
    },
    {
      "cell_type": "markdown",
      "metadata": {
        "id": "J6HPiO2ITXZ1"
      },
      "source": [
        "**MINI CHALLENGE #8:**\n",
        "- **Plot the box plot for  a new dataset data_5 that is normally distributed with an average of 800 and standard deviation = 100**"
      ]
    },
    {
      "cell_type": "code",
      "metadata": {
        "id": "kxw_XWTcWk88"
      },
      "source": [
        ""
      ],
      "execution_count": null,
      "outputs": []
    },
    {
      "cell_type": "markdown",
      "metadata": {
        "id": "-eqad_xGb8BS"
      },
      "source": [
        "# EXCELLENT JOB!"
      ]
    },
    {
      "cell_type": "markdown",
      "metadata": {
        "id": "VMJPmhSavkhL"
      },
      "source": [
        "# MINI CHALLENGES SOLUTIONS"
      ]
    },
    {
      "cell_type": "markdown",
      "metadata": {
        "id": "c-q8_6jVvmiJ"
      },
      "source": [
        "**MINI CHALLLENGE #1 SOLUTIONS:**\n",
        "- **Plot similar kind of graph for sp500**\n",
        "- **Change the color line to red**\n"
      ]
    },
    {
      "cell_type": "code",
      "metadata": {
        "id": "82FcxfJvLrMu"
      },
      "source": [
        "stock_df.plot(x = 'Date', y = 'sp500', label = 'P500', color = 'r');\n",
        "plt.ylabel('Price')\n",
        "plt.title('My first plotting exercise!')\n",
        "plt.legend(loc=\"upper left\")\n",
        "plt.grid()\n"
      ],
      "execution_count": null,
      "outputs": []
    },
    {
      "cell_type": "markdown",
      "metadata": {
        "id": "Q-9XuR_DwDkR"
      },
      "source": [
        "**MINI CHALLLENGE #2 SOLUTIONS:**\n",
        "- **Plot similar kind of graph for GOOG and sp500**\n"
      ]
    },
    {
      "cell_type": "code",
      "metadata": {
        "id": "dZVx8PHswHo1"
      },
      "source": [
        "X = daily_return_df['GOOG']\n",
        "Y = daily_return_df['sp500']\n",
        "\n",
        "plt.scatter(X, Y);"
      ],
      "execution_count": null,
      "outputs": []
    },
    {
      "cell_type": "markdown",
      "metadata": {
        "id": "_HBnzrQFxNNS"
      },
      "source": [
        "**MINI CHALLLENGE #3 SOLUTIONS:**\n",
        "- **Plot the pie chart for the same stocks assuming equal allocation**\n",
        "- **Explode Amazon and Google slices**\n"
      ]
    },
    {
      "cell_type": "code",
      "metadata": {
        "id": "I4BdeWKixQYH"
      },
      "source": [
        "values = [20, 20, 20, 20, 20]\n",
        "colors = ['g', 'r', 'y', 'b', 'm']\n",
        "explode = [0, 0.2, 0, 0, 0.2]\n",
        "labels = ['AAPL', 'GOOG', 'T', 'TSLA  ', 'AMZN']\n",
        "plt.pie(values, colors = colors, labels = labels, explode = explode)\n",
        "plt.title('STOCK PORTFOLIO')\n",
        "plt.show()"
      ],
      "execution_count": null,
      "outputs": []
    },
    {
      "cell_type": "markdown",
      "metadata": {
        "id": "5FDbqqY2x4uy"
      },
      "source": [
        "**MINI CHALLLENGE #4 SOLUTIONS:**\n",
        "- **Plot the histogram for GOOG returns with 30 bins**\n"
      ]
    },
    {
      "cell_type": "code",
      "metadata": {
        "id": "hPBQ3Cf7xiJN"
      },
      "source": [
        "num_bins = 30\n",
        "plt.hist(daily_return_df['GOOG'], num_bins, facecolor = 'blue');\n",
        "plt.grid()"
      ],
      "execution_count": null,
      "outputs": []
    },
    {
      "cell_type": "markdown",
      "metadata": {
        "id": "X8cI77RKyTfj"
      },
      "source": [
        "**MINI CHALLLENGE #5 SOLUTIONS:**\n",
        "- **Plot a similar graph containing prices of AAPL, sp500 and GOOG**\n",
        "- **Add legend indicating S&P500, AAPL and GOOG**\n",
        "- **Place the legend in the \"upper center\" location** \n"
      ]
    },
    {
      "cell_type": "code",
      "metadata": {
        "id": "U3CZvXYzOVvs"
      },
      "source": [
        "stock_df.plot(x = 'Date', y = ['AAPL', 'sp500', 'GOOG'], linewidth = 3)\n",
        "plt.ylabel('Price')\n",
        "plt.title('Stock Prices')\n",
        "plt.legend(loc=\"upper center\")\n",
        "plt.grid()"
      ],
      "execution_count": null,
      "outputs": []
    },
    {
      "cell_type": "markdown",
      "metadata": {
        "id": "wgHTirG0y7eO"
      },
      "source": [
        "**MINI CHALLLENGE #6 SOLUTIONS:**\n",
        "- **Create subplots like above for GOOG, AAPL and sp500**\n"
      ]
    },
    {
      "cell_type": "code",
      "metadata": {
        "id": "gp2iINNnyhCB"
      },
      "source": [
        "plt.figure(figsize = (7,7))\n",
        "plt.subplot(3, 1, 1)\n",
        "plt.plot(stock_df.index, stock_df['AAPL'], 'r--');\n",
        "plt.grid()\n",
        "plt.legend(['APPLE price'])\n",
        "\n",
        "plt.subplot(3, 1, 2)\n",
        "plt.plot(stock_df.index, stock_df['sp500'], 'b.');\n",
        "plt.grid()\n",
        "plt.legend(['S&P500 price'])\n",
        "\n",
        "\n",
        "plt.subplot(3, 1, 3)\n",
        "plt.plot(stock_df.index, stock_df['GOOG'], 'y--');\n",
        "plt.grid()\n",
        "plt.legend(['GOOGLE price'])\n"
      ],
      "execution_count": null,
      "outputs": []
    },
    {
      "cell_type": "markdown",
      "metadata": {
        "id": "RhqfRdLFzxop"
      },
      "source": [
        "**MINI CHALLLENGE #7 SOLUTIONS:**\n",
        "- **Create a 3D plot with daily return values of sp500, GOOG and AAPL**\n"
      ]
    },
    {
      "cell_type": "code",
      "metadata": {
        "id": "7dvOghOKzM46"
      },
      "source": [
        "fig = plt.figure(figsize=(6, 6))\n",
        "ax = fig.add_subplot(111, projection = '3d')\n",
        "\n",
        "x = daily_return_df['AAPL'].tolist()\n",
        "y = daily_return_df['sp500'].tolist()\n",
        "z = daily_return_df['GOOG'].tolist()\n",
        "\n",
        "ax.scatter(x, y, z, c = 'r', marker = 'o')\n",
        "\n",
        "ax.set_xlabel('X Label')\n",
        "ax.set_ylabel('Y Label')\n",
        "ax.set_zlabel('Z Label')"
      ],
      "execution_count": null,
      "outputs": []
    },
    {
      "cell_type": "markdown",
      "metadata": {
        "id": "MvsBHW9cWgDP"
      },
      "source": [
        "**MINI CHALLENGE #8 SOLUTIONS:**\n",
        "- **Plot the box plot for  a new dataset that is normally distributed with an average of 800 and standard deviation = 100**"
      ]
    },
    {
      "cell_type": "code",
      "metadata": {
        "id": "Er8aA8DAWgDS"
      },
      "source": [
        "np.random.seed(20)\n",
        "\n",
        "data_1 = np.random.normal(200, 20, 2000)\n",
        "data_2 = np.random.normal(60, 30, 2000)\n",
        "data_3 = np.random.normal(70, 20, 2000)\n",
        "data_4 = np.random.normal(40, 5, 2000)\n",
        "data_5 = np.random.normal(800, 100, 2000)\n",
        "\n",
        "\n",
        "data_all = [data_1, data_2, data_3, data_4, data_5]\n",
        "\n",
        "fig = plt.figure(figsize = (10, 7))\n",
        "ax = fig.add_subplot(111)\n",
        "bp = ax.boxplot(data_all)"
      ],
      "execution_count": null,
      "outputs": []
    }
  ]
}